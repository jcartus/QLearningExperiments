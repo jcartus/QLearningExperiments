{
 "cells": [
  {
   "cell_type": "code",
   "execution_count": 1,
   "id": "e8be4dc7",
   "metadata": {},
   "outputs": [],
   "source": [
    "%load_ext autoreload\n",
    "%autoreload 2"
   ]
  },
  {
   "cell_type": "code",
   "execution_count": 4,
   "id": "32a63b71",
   "metadata": {},
   "outputs": [],
   "source": [
    "import numpy as np\n",
    "import matplotlib.pyplot as plt\n",
    "\n",
    "import seaborn as sns"
   ]
  },
  {
   "cell_type": "markdown",
   "id": "2ec818d5",
   "metadata": {},
   "source": [
    "# Basic Visualisation of important points"
   ]
  },
  {
   "cell_type": "code",
   "execution_count": 5,
   "id": "469a7e2a",
   "metadata": {},
   "outputs": [],
   "source": [
    "from run_1D import generate_course"
   ]
  },
  {
   "cell_type": "code",
   "execution_count": 237,
   "id": "db81454c",
   "metadata": {},
   "outputs": [],
   "source": [
    "game_map = np.atleast_2d(generate_course())"
   ]
  },
  {
   "cell_type": "code",
   "execution_count": 185,
   "id": "def02478",
   "metadata": {},
   "outputs": [],
   "source": [
    "game_map = np.array([\n",
    "    [0, 0, 10, 0, 0, -5],\n",
    "    [0, 0, 17, -1, 0, 1],\n",
    "    [0, -1, 0, 0, 3, 0],\n",
    "]).transpose()"
   ]
  },
  {
   "cell_type": "code",
   "execution_count": 186,
   "id": "72d8f129",
   "metadata": {},
   "outputs": [],
   "source": [
    "def position_from_state(game_map, state):\n",
    "    \"\"\"State is a scalar index, get position on map\"\"\"\n",
    "    x, y = np.unravel_index(state, game_map.shape)\n",
    "    print(x, y)\n",
    "    return x, y"
   ]
  },
  {
   "cell_type": "code",
   "execution_count": 187,
   "id": "d17786ed",
   "metadata": {},
   "outputs": [],
   "source": [
    "def annotate(game_map, state, txt):\n",
    "    \"\"\"Add text to a field on the map\"\"\"\n",
    "    \n",
    "    x, y = position_from_state(game_map, state)\n",
    "    \n",
    "    plt.text(x, y, txt, ha=\"center\", va=\"center\", color=\"gray\", fontdict={\"fontweight\": \"bold\", \"fontsize\": 14})\n",
    "    "
   ]
  },
  {
   "cell_type": "code",
   "execution_count": 204,
   "id": "aafadac6",
   "metadata": {},
   "outputs": [],
   "source": [
    "def mark_position(game_map, state, color=\"blue\"):\n",
    "    \"\"\"Highlight a field on the map, e.g. to indicate \n",
    "    the current position\"\"\"\n",
    "    from matplotlib.patches import Rectangle\n",
    "    x, y = position_from_state(game_map, state)\n",
    "    \n",
    "    plt.gca().add_patch(Rectangle((x-0.5, y-0.5), 1, 1, fill=False, edgecolor=color, lw=3))"
   ]
  },
  {
   "cell_type": "code",
   "execution_count": 229,
   "id": "e5cae756",
   "metadata": {},
   "outputs": [],
   "source": [
    "def visualize_map(game_map):\n",
    "    \n",
    "    plt.imshow(game_map.transpose(), origin=\"lower\")\n",
    "    cbar = plt.colorbar()\n",
    "    \n",
    "    xticks = np.arange(game_map.shape[0])\n",
    "    yticks = np.arange(game_map.shape[1])\n",
    "    plt.xticks(xticks, xticks)\n",
    "    plt.yticks(yticks, yticks)\n",
    "    \n",
    "    plt.xlabel(\"x\")\n",
    "    plt.ylabel(\"y\")\n",
    "    \n",
    "    #cbar.set_label(\"Gain\")"
   ]
  },
  {
   "cell_type": "code",
   "execution_count": 230,
   "id": "d008f4e0",
   "metadata": {},
   "outputs": [],
   "source": [
    "def visualize_map_and_landmarks(game_map, start_state):\n",
    "    \n",
    "    visualize_map(game_map)\n",
    "    annotate(game_map, np.argmax(game_map), \"Win\")\n",
    "    annotate(game_map, np.argmin(game_map), \"Death\")\n",
    "    \n",
    "    mark_position(game_map, start_state, color=\"grey\")"
   ]
  },
  {
   "cell_type": "code",
   "execution_count": 238,
   "id": "02c4efa4",
   "metadata": {},
   "outputs": [
    {
     "name": "stdout",
     "output_type": "stream",
     "text": [
      "0 5\n",
      "0 7\n",
      "0 0\n",
      "0 4\n"
     ]
    },
    {
     "data": {
      "image/png": "[encoded data removed]",
      "text/plain": [
       "<Figure size 720x288 with 2 Axes>"
      ]
     },
     "metadata": {
      "needs_background": "light"
     },
     "output_type": "display_data"
    }
   ],
   "source": [
    "\n",
    "plt.figure(figsize=(10, 4))\n",
    "\n",
    "visualize_map_and_landmarks(game_map, start_state=0)\n",
    "\n",
    "#plt.plot(*[[0, 3]]*2, \"k-\")\n",
    "\n",
    "\n",
    "mark_position(game_map, 4)"
   ]
  },
  {
   "cell_type": "code",
   "execution_count": null,
   "id": "4bdc5dde",
   "metadata": {},
   "outputs": [],
   "source": []
  },
  {
   "cell_type": "markdown",
   "id": "7ad26d0f",
   "metadata": {},
   "source": [
    "# Animation "
   ]
  },
  {
   "cell_type": "code",
   "execution_count": 239,
   "id": "155f3ac4",
   "metadata": {},
   "outputs": [
    {
     "name": "stdout",
     "output_type": "stream",
     "text": [
      "0 5\n",
      "0 7\n",
      "0 0\n",
      "0 0\n",
      "0 5\n",
      "0 7\n",
      "0 0\n",
      "0 0\n",
      "0 5\n",
      "0 7\n",
      "0 0\n",
      "0 1\n",
      "0 5\n",
      "0 7\n",
      "0 0\n",
      "0 2\n",
      "0 5\n",
      "0 7\n",
      "0 0\n",
      "0 3\n",
      "0 5\n",
      "0 7\n",
      "0 0\n",
      "0 4\n",
      "0 5\n",
      "0 7\n",
      "0 0\n",
      "0 5\n",
      "0 5\n",
      "0 7\n",
      "0 0\n",
      "0 6\n",
      "0 5\n",
      "0 7\n",
      "0 0\n",
      "0 7\n",
      "0 5\n",
      "0 7\n",
      "0 0\n",
      "0 8\n",
      "0 5\n",
      "0 7\n",
      "0 0\n",
      "0 9\n",
      "0 5\n",
      "0 7\n",
      "0 0\n",
      "0 10\n",
      "0 5\n",
      "0 7\n",
      "0 0\n",
      "0 0\n",
      "0 5\n",
      "0 7\n",
      "0 0\n",
      "0 1\n",
      "0 5\n",
      "0 7\n",
      "0 0\n",
      "0 2\n",
      "0 5\n",
      "0 7\n",
      "0 0\n",
      "0 3\n",
      "0 5\n",
      "0 7\n",
      "0 0\n",
      "0 4\n",
      "0 5\n",
      "0 7\n",
      "0 0\n",
      "0 5\n",
      "0 5\n",
      "0 7\n",
      "0 0\n",
      "0 6\n",
      "0 5\n",
      "0 7\n",
      "0 0\n",
      "0 7\n",
      "0 5\n",
      "0 7\n",
      "0 0\n",
      "0 8\n"
     ]
    },
    {
     "data": {
      "image/png": "[encoded data removed]",
      "text/plain": [
       "<Figure size 720x288 with 2 Axes>"
      ]
     },
     "metadata": {
      "needs_background": "light"
     },
     "output_type": "display_data"
    }
   ],
   "source": [
    "import matplotlib.animation as animation\n",
    "\n",
    "def init():\n",
    "    visualize_map_and_landmarks(game_map, start_state=0)\n",
    "    mark_position(game_map, 0)\n",
    "\n",
    "def animate(i):\n",
    "    plt.clf()\n",
    "    visualize_map_and_landmarks(game_map, start_state=0)\n",
    "    mark_position(game_map, i % game_map.size)\n",
    "\n",
    "fig = plt.figure(figsize=(10, 4))\n",
    "\n",
    "anim = animation.FuncAnimation(fig, animate, init_func=init, frames=20, repeat = False)\n",
    "anim.save(\"demo.gif\")"
   ]
  },
  {
   "cell_type": "code",
   "execution_count": null,
   "id": "4c0592ab",
   "metadata": {},
   "outputs": [],
   "source": []
  },
  {
   "cell_type": "code",
   "execution_count": 234,
   "id": "978d94da",
   "metadata": {},
   "outputs": [
    {
     "data": {
      "text/plain": [
       "array([[  0,   0,   0,   1,   0,  16,   0, -20,   1,   0,   0]])"
      ]
     },
     "execution_count": 234,
     "metadata": {},
     "output_type": "execute_result"
    }
   ],
   "source": [
    "game_map"
   ]
  },
  {
   "cell_type": "code",
   "execution_count": 236,
   "id": "330ad53a",
   "metadata": {},
   "outputs": [
    {
     "data": {
      "text/plain": [
       "array([[  0,   0,   0,   1,   0,  16,   0, -20,   1,   0,   0]])"
      ]
     },
     "execution_count": 236,
     "metadata": {},
     "output_type": "execute_result"
    }
   ],
   "source": [
    "np.atleast_2d(generate_course())"
   ]
  },
  {
   "cell_type": "code",
   "execution_count": null,
   "id": "476d1e14",
   "metadata": {},
   "outputs": [],
   "source": []
  }
 ],
 "metadata": {
  "kernelspec": {
   "display_name": "Python 3 (ipykernel)",
   "language": "python",
   "name": "python3"
  },
  "language_info": {
   "codemirror_mode": {
    "name": "ipython",
    "version": 3
   },
   "file_extension": ".py",
   "mimetype": "text/x-python",
   "name": "python",
   "nbconvert_exporter": "python",
   "pygments_lexer": "ipython3",
   "version": "3.7.11"
  }
 },
 "nbformat": 4,
 "nbformat_minor": 5
}
